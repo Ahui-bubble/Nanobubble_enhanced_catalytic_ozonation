{
 "cells": [
  {
   "cell_type": "code",
   "execution_count": 1,
   "id": "b4f0d8cb-a7fa-47b6-82da-d9b0558336c9",
   "metadata": {},
   "outputs": [],
   "source": [
    "import pandas as pd\n",
    "import numpy as np\n",
    "from sklearn.tree import DecisionTreeClassifier\n",
    "import seaborn as sns\n",
    "import matplotlib.pyplot as plt\n",
    "data_train_set=pd.read_excel(r\"C:\\Users\\Ahui\\ml\\catalytic ozonation ML\\catalytic ozonation data.xlsx\")\n",
    "data_train_set.head()\n",
    "d = data_train_set.corr()\n",
    "display(d)\n",
    "\n",
    "import matplotlib.pyplot as plt\n",
    "plt.rcParams['font.sans-serif'] = ['SimHei']  # 设置中文字体为SimHei\n",
    "plt.rcParams['axes.unicode_minus'] = False  # 解决负号'-'显示为方块的问题\n",
    "\n",
    "plt.subplots(figsize = (8,6))\n",
    "sns.heatmap(d, vmax = 1,square = True,cmap = \"Reds\", fmt=\".2f\")\n",
    "plt.savefig('heatmap.png',dpi=300)\n",
    "plt.show()"
   ]
  }
 ],
 "metadata": {
  "kernelspec": {
   "display_name": "Python 3 (ipykernel)",
   "language": "python",
   "name": "python3"
  },
  "language_info": {
   "codemirror_mode": {
    "name": "ipython",
    "version": 3
   },
   "file_extension": ".py",
   "mimetype": "text/x-python",
   "name": "python",
   "nbconvert_exporter": "python",
   "pygments_lexer": "ipython3",
   "version": "3.11.7"
  }
 },
 "nbformat": 4,
 "nbformat_minor": 5
}
